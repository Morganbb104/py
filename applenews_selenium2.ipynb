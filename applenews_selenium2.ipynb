{
 "cells": [
  {
   "cell_type": "code",
   "execution_count": 4,
   "metadata": {},
   "outputs": [],
   "source": [
    "from selenium import webdriver\n",
    "from selenium.webdriver.common.keys import Keys\n",
    "from bs4 import BeautifulSoup as bs\n",
    "from selenium.webdriver.common.keys import Keys\n",
    "import pandas as pd\n",
    "import time\n",
    "import pdb"
   ]
  },
  {
   "cell_type": "code",
   "execution_count": 5,
   "metadata": {},
   "outputs": [
    {
     "data": {
      "text/plain": [
       "<selenium.webdriver.phantomjs.webdriver.WebDriver (session=\"5308c410-d831-11e7-b719-5564e3768650\")>"
      ]
     },
     "execution_count": 5,
     "metadata": {},
     "output_type": "execute_result"
    }
   ],
   "source": [
    "browser = webdriver.PhantomJS(executable_path='./phantomjs') \n",
    "browser.get('http://search.appledaily.com.tw/appledaily/search')\n",
    "browser\n",
    "#browser.find_element_by_id('searchKeyword').send_keys('政治' + Keys.RETURN)"
   ]
  },
  {
   "cell_type": "code",
   "execution_count": 6,
   "metadata": {
    "scrolled": false
   },
   "outputs": [],
   "source": [
    "skey = browser.find_element_by_id('articleSearch').send_keys('政治'+ Keys.RETURN)\n",
    "browser.find_element_by_id('start_date').clear()\n",
    "browser.find_element_by_id('start_date').send_keys('2017-10-30')\n",
    "browser.find_element_by_id('articleSearch').send_keys(Keys.ENTER)\n",
    "time.sleep(3)\n",
    "\n",
    "pre_soup = bs(browser.page_source, 'lxml')\n",
    "pre_soup\n",
    "page_temp = pre_soup.select('#pageNumber a')\n",
    "page_count = []\n",
    "for pt in page_temp:\n",
    "    page_count.append(pt.text)\n",
    "    page_count = int(page_count[-3])\n"
   ]
  },
  {
   "cell_type": "code",
   "execution_count": 7,
   "metadata": {},
   "outputs": [],
   "source": [
    "soup = bs(browser.page_source, 'lxml')\n",
    "select_portion = soup.select('h2 a')"
   ]
  },
  {
   "cell_type": "code",
   "execution_count": 12,
   "metadata": {},
   "outputs": [
    {
     "data": {
      "text/plain": [
       "<a href=\"https://tw.appledaily.com/new/realtime/20171203/1252779/\">北韓威脅這麼近！國泰航班空中目擊飛彈...</a>"
      ]
     },
     "execution_count": 12,
     "metadata": {},
     "output_type": "execute_result"
    }
   ],
   "source": [
    "t = select_portion[1]\n",
    "t"
   ]
  },
  {
   "cell_type": "code",
   "execution_count": 14,
   "metadata": {},
   "outputs": [
    {
     "data": {
      "text/plain": [
       "'https://tw.appledaily.com/new/realtime/20171203/1252776/'"
      ]
     },
     "execution_count": 14,
     "metadata": {},
     "output_type": "execute_result"
    }
   ],
   "source": [
    "t.attrs['href']"
   ]
  },
  {
   "cell_type": "code",
   "execution_count": 13,
   "metadata": {},
   "outputs": [],
   "source": [
    "count = 0\n",
    "title = []\n",
    "list_all = []\n",
    "while count < 3:\n",
    "    browser.implicitly_wait(5)\n",
    "    soup = bs(browser.page_source, 'lxml')\n",
    "    select_portion = soup.select('h2 a')\n",
    "    for s in select_portion:\n",
    "        title.append(s.text)\n",
    "        list_all.append(s.attrs['href'])\n",
    "#    del title[title.index('This is a part of NextMedia')]\n",
    "    count += 1\n",
    "    try:\n",
    "        browser.find_element_by_css_selector('img[alt=\"下一頁\"]').click()\n",
    "    except:\n",
    "        continue\n",
    "    \n",
    "    "
   ]
  },
  {
   "cell_type": "code",
   "execution_count": 1,
   "metadata": {},
   "outputs": [
    {
     "ename": "NameError",
     "evalue": "name 'a' is not defined",
     "output_type": "error",
     "traceback": [
      "\u001b[0;31m---------------------------------------------------------------------------\u001b[0m",
      "\u001b[0;31mNameError\u001b[0m                                 Traceback (most recent call last)",
      "\u001b[0;32m<ipython-input-1-6f84cbde6333>\u001b[0m in \u001b[0;36m<module>\u001b[0;34m()\u001b[0m\n\u001b[0;32m----> 1\u001b[0;31m \u001b[0mNEW\u001b[0m\u001b[0;34m=\u001b[0m\u001b[0;34m{\u001b[0m\u001b[0ma\u001b[0m\u001b[0;34m,\u001b[0m\u001b[0mb\u001b[0m\u001b[0;34m}\u001b[0m\u001b[0;34m\u001b[0m\u001b[0m\n\u001b[0m\u001b[1;32m      2\u001b[0m \u001b[0ma\u001b[0m \u001b[0;34m=\u001b[0m \u001b[0mtitle\u001b[0m\u001b[0;34m\u001b[0m\u001b[0m\n\u001b[1;32m      3\u001b[0m \u001b[0mb\u001b[0m \u001b[0;34m=\u001b[0m\u001b[0mlist_all\u001b[0m\u001b[0;34m\u001b[0m\u001b[0m\n",
      "\u001b[0;31mNameError\u001b[0m: name 'a' is not defined"
     ]
    }
   ],
   "source": []
  },
  {
   "cell_type": "code",
   "execution_count": 14,
   "metadata": {},
   "outputs": [
    {
     "data": {
      "text/plain": [
       "['來台見女友家長  醉澳男脫衣推人成網紅', '北韓威脅這麼近！國泰航班空中目擊飛彈...', '體署首筆前瞻計畫獲8.76億元  新竹...']"
      ]
     },
     "execution_count": 14,
     "metadata": {},
     "output_type": "execute_result"
    }
   ],
   "source": [
    "browser.quit()\n",
    "final_title = []\n",
    "for t in title:\n",
    "    title_temp = t.replace('\\u3000', '  ')\n",
    "    title_temp = title_temp.replace('\\u200b', '')\n",
    "    final_title.append(title_temp)\n",
    "final_title[0:3]"
   ]
  },
  {
   "cell_type": "code",
   "execution_count": null,
   "metadata": {},
   "outputs": [],
   "source": [
    "browser.quit()\n",
    "final_href = []\n",
    "for t in title:\n",
    "    title_temp = t.replace('\\u3000', '  ')\n",
    "    title_temp = title_temp.replace('\\u200b', '')\n",
    "    final_title.append(title_temp)\n",
    "final_title[0:3]"
   ]
  },
  {
   "cell_type": "code",
   "execution_count": null,
   "metadata": {},
   "outputs": [],
   "source": [
    "import codecs\n",
    "with codecs.open('apple_crawler_output', 'w', 'utf8') as f:\n",
    "    f.write('政治' + '\\r\\n')\n",
    "    f.write('From ' + '2016-01-25' + ' To ' + '2017-01-30' + '\\r\\n')\n",
    "    for ft in final_title:\n",
    "        f.write(ft + '\\r\\n')"
   ]
  },
  {
   "cell_type": "code",
   "execution_count": null,
   "metadata": {},
   "outputs": [],
   "source": []
  }
 ],
 "metadata": {
  "kernelspec": {
   "display_name": "Python 3",
   "language": "python",
   "name": "python3"
  },
  "language_info": {
   "codemirror_mode": {
    "name": "ipython",
    "version": 3
   },
   "file_extension": ".py",
   "mimetype": "text/x-python",
   "name": "python",
   "nbconvert_exporter": "python",
   "pygments_lexer": "ipython3",
   "version": "3.6.1"
  }
 },
 "nbformat": 4,
 "nbformat_minor": 2
}
